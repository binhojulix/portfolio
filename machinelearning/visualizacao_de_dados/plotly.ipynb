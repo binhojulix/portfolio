{
  "cells": [
    {
      "cell_type": "code",
      "execution_count": null,
      "metadata": {
        "colab": {
          "base_uri": "https://localhost:8080/"
        },
        "id": "bKeLF6gCAFSq",
        "outputId": "b1d1d7b5-f538-41c4-dcf5-fac51b39552b"
      },
      "outputs": [
        {
          "name": "stdout",
          "output_type": "stream",
          "text": [
            "hello\n"
          ]
        }
      ],
      "source": [
        "\n",
        "from bokeh.io import output_file, show\n",
        "from bokeh.plotting import figure\n",
        "from bokeh.models import HoverTool\n",
        "import numpy as np\n",
        "\n",
        "# Generate data\n",
        "n = 500\n",
        "x = np.linspace(0, 13, n)\n",
        "y = np.sin(x) + np.random.random(n) * 1\n",
        "\n",
        "# Create canvas\n",
        "plot = figure(plot_width=525, plot_height=300,\n",
        "              title='Hover your mouse over the data!',\n",
        "              x_axis_label=\"x\", y_axis_label=\"y\")\n",
        "plot.title.text_font_size = '12pt'\n",
        "\n",
        "# Add scatterplot data\n",
        "plot.circle(x, y, size=10, fill_color='grey', alpha=0.1,\n",
        "            line_color=None, hover_alpha=0.5,\n",
        "            hover_fill_color='orange', hover_line_color='white')\n",
        "\n",
        "# Create the hover tool\n",
        "hover = HoverTool(tooltips=None, mode='vline')\n",
        "plot.add_tools(hover)\n",
        "print(\"hello\")\n",
        "show(plot)"
      ]
    }
  ],
  "metadata": {
    "colab": {
      "include_colab_link": true,
      "name": "Untitled1.ipynb",
      "provenance": []
    },
    "kernelspec": {
      "display_name": "Python 3.10.8 64-bit",
      "language": "python",
      "name": "python3"
    },
    "language_info": {
      "name": "python",
      "version": "3.10.8"
    },
    "vscode": {
      "interpreter": {
        "hash": "b0fa6594d8f4cbf19f97940f81e996739fb7646882a419484c72d19e05852a7e"
      }
    }
  },
  "nbformat": 4,
  "nbformat_minor": 0
}
