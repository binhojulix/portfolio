{
 "cells": [
  {
   "cell_type": "code",
   "execution_count": 2,
   "id": "8a9f6255",
   "metadata": {},
   "outputs": [
    {
     "name": "stdout",
     "output_type": "stream",
     "text": [
      "[-1  1 -1]\n",
      "[ 0  0 -2]\n",
      "66.66666666666667\n"
     ]
    }
   ],
   "source": [
    "porco1 = [1, 1, 0]\n",
    "porco2 = [1, 1, 0]\n",
    "porco3 = [1, 1, 0]\n",
    "cachorro4 = [1, 1, 1]\n",
    "cachorro5 = [0, 1, 1]\n",
    "cachorro6 = [0, 1, 1]\n",
    " \n",
    "dados = [porco1, porco2, porco3, cachorro4, cachorro5, cachorro6]\n",
    " \n",
    "marcacoes = [1, 1, 1, -1, -1, -1]\n",
    "\n",
    "from sklearn.naive_bayes import MultinomialNB\n",
    "\n",
    "modelo = MultinomialNB()\n",
    "modelo.fit(dados, marcacoes)\n",
    "\n",
    "misterioso1 = [1, 1, 1]\n",
    "misterioso2 = [1, 0, 0]\n",
    "misterioso3 = [0, 0, 1]\n",
    "\n",
    "teste = [misterioso1, misterioso2, misterioso3]\n",
    "\n",
    "marcacoes_teste = [-1, 1, 1]\n",
    "\n",
    "resultado = modelo.predict(teste)\n",
    "\n",
    "diferencas = resultado - marcacoes_teste\n",
    "\n",
    "acertos = [d for d in diferencas if d == 0]\n",
    "\n",
    "total_de_acertos = len(acertos)\n",
    "total_de_elementos = len(teste)\n",
    "\n",
    "taxa_de_acerto = 100.0 * total_de_acertos / total_de_elementos\n",
    "\n",
    "print(resultado)\n",
    "print(diferencas)\n",
    "print(taxa_de_acerto)"
   ]
  },
  {
   "cell_type": "code",
   "execution_count": null,
   "id": "085e0e52",
   "metadata": {},
   "outputs": [],
   "source": []
  }
 ],
 "metadata": {
  "kernelspec": {
   "display_name": "Python 3.10.8 64-bit",
   "language": "python",
   "name": "python3"
  },
  "language_info": {
   "codemirror_mode": {
    "name": "ipython",
    "version": 3
   },
   "file_extension": ".py",
   "mimetype": "text/x-python",
   "name": "python",
   "nbconvert_exporter": "python",
   "pygments_lexer": "ipython3",
   "version": "3.10.8"
  },
  "vscode": {
   "interpreter": {
    "hash": "b0fa6594d8f4cbf19f97940f81e996739fb7646882a419484c72d19e05852a7e"
   }
  }
 },
 "nbformat": 4,
 "nbformat_minor": 5
}
