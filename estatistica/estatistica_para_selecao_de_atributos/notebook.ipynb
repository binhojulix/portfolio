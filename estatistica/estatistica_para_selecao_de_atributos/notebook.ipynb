{
  "cells": [
    {
      "cell_type": "markdown",
      "metadata": {
        "id": "5d4kS7MWEUeX"
      },
      "source": [
        "<a href=\"https://colab.research.google.com/github/binhojulix/portfolio/blob/master/dados/Estat%C3%ADstica/estatistica_para_selecao_de_atributo.ipynb\" target=\"_parent\"><img src=\"https://colab.research.google.com/assets/colab-badge.svg\" alt=\"Open In Colab\"/></a>"
      ]
    },
    {
      "cell_type": "code",
      "execution_count": null,
      "metadata": {
        "id": "m2FRFSvXEUeY"
      },
      "outputs": [],
      "source": [
        "import pandas as pd\n",
        "import numpy as np\n",
        "import seaborn as sns\n",
        "import matplotlib.pyplot as plt\n",
        "from sklearn.preprocessing import scale"
      ]
    },
    {
      "cell_type": "code",
      "execution_count": null,
      "metadata": {
        "id": "O0Xu3RDvEUeZ"
      },
      "outputs": [],
      "source": [
        "from sklearn.datasets import make_classification, make_regression"
      ]
    },
    {
      "cell_type": "code",
      "execution_count": null,
      "metadata": {
        "id": "3VGS-wp5EUeZ",
        "outputId": "9012cf69-ccac-4844-80d2-7807951acf65"
      },
      "outputs": [
        {
          "name": "stdout",
          "output_type": "stream",
          "text": [
            "[[-1.52209414e+00 -2.01321151e+00  1.01941347e+00 -1.70472593e+00\n",
            "  -1.31643866e-01 -7.26066204e-01]\n",
            " [ 1.42215542e-01  8.87227429e-01 -1.53841200e+00  1.30084037e-01\n",
            "  -6.65434015e-01  3.36334091e-01]\n",
            " [-1.79630569e+00 -1.66426751e-01  8.26118402e-01  9.42177638e-02\n",
            "   1.25017225e+00 -6.29447646e-01]\n",
            " [ 1.16321081e+00  1.47756758e-01 -3.15291264e-01  1.08159343e+00\n",
            "  -1.89048420e+00  1.21246790e+00]\n",
            " [-6.57064656e-01  9.22839163e-02  4.32748780e-01 -1.27791089e+00\n",
            "  -6.60044225e-01 -1.84586930e-02]\n",
            " [-6.80269159e-01 -5.86388601e-01 -2.23749054e+00 -1.31542832e+00\n",
            "  -5.41377936e-01 -5.07070726e-01]\n",
            " [-1.49952608e+00 -2.93060972e-01 -6.22870394e-01  3.82954805e-02\n",
            "  -7.40690808e-01 -5.73189580e-01]\n",
            " [-7.89512795e-01  7.38014716e-01 -1.84949536e-01 -1.81613291e+00\n",
            "  -1.96500526e-01 -4.72086812e-01]\n",
            " [ 4.84035018e-01 -7.82277626e-01 -1.45132918e+00  8.09708395e-01\n",
            "  -7.09697011e-01  1.08761825e+00]\n",
            " [-7.17236739e-01 -4.03643065e-01 -3.78820725e-01  1.65974844e-01\n",
            "  -1.28677713e+00 -4.60419823e-01]\n",
            " [-9.58649121e-01  9.14774618e-01  9.42709506e-01  7.89117339e-02\n",
            "   1.70291552e+00 -9.91992789e-01]\n",
            " [ 7.41910055e-01 -1.05380684e+00  2.89360742e-01 -8.84864519e-01\n",
            "   1.68263621e+00 -1.28579889e-01]\n",
            " [ 7.77166184e-01  1.21401928e+00  1.71699084e+00 -6.96615366e-02\n",
            "   7.82870777e-01 -2.55868368e-01]\n",
            " [-5.09958321e-01 -1.77192510e-01 -1.49066916e+00 -8.07091462e-01\n",
            "   1.96781642e+00  2.21005089e-01]\n",
            " [ 2.74423094e+00 -7.83958732e-02 -4.69512079e-01 -9.91900807e-01\n",
            "  -5.87000045e-01  8.87938936e-01]\n",
            " [ 5.69892811e-01  7.40208651e-01 -4.83580240e-01  2.21173991e+00\n",
            "   2.08442164e-01 -1.45796511e+00]\n",
            " [-4.26181770e-01 -9.90919870e-01  5.09370700e-01  2.53649359e-01\n",
            "   3.63746794e-01  1.63627500e-01]\n",
            " [ 2.11452940e-01  2.10238243e-01 -3.40230067e-01  4.96139168e-01\n",
            "   8.44567402e-02 -2.73409757e-01]\n",
            " [-1.85585023e-01 -1.03770733e+00  9.90478868e-01 -3.51559908e-01\n",
            "  -9.52498002e-01  9.83098221e-01]\n",
            " [ 1.73666231e+00 -1.00075192e+00 -1.03019260e+00 -2.27712746e+00\n",
            "  -1.29415856e+00 -6.07735805e-01]\n",
            " [ 9.23638428e-01  5.54628527e-01  1.40502834e+00  4.02883832e-01\n",
            "  -6.19681011e-01  1.94818245e+00]\n",
            " [-5.91349040e-01 -1.80910275e+00  1.58288485e+00 -4.52612964e-01\n",
            "   9.07229499e-01  8.65238978e-01]\n",
            " [-2.46133111e+00  4.13819631e-01  5.74484780e-01 -1.97836398e+00\n",
            "   1.78460879e-01 -8.62076646e-01]\n",
            " [-2.99185328e-01  3.30970312e-01 -7.27475839e-01  1.68773453e-01\n",
            "   1.19847631e+00  1.19559645e+00]\n",
            " [-5.41716889e-03  8.11061331e-01  2.25722118e-01  6.64941777e-01\n",
            "  -2.44847024e-01  6.84390603e-01]\n",
            " [ 6.57467746e-01  1.42459908e+00 -1.06298798e+00  1.84010445e+00\n",
            "   7.63910640e-02 -2.26759412e-01]\n",
            " [-8.99999895e-01 -9.98965373e-01 -1.80663566e+00  1.13491038e+00\n",
            "  -9.28017229e-01  5.82431572e-01]\n",
            " [-1.56151775e+00  6.93426815e-01  1.20954657e+00 -7.20590178e-01\n",
            "   1.86448917e+00  2.84558315e-01]\n",
            " [-3.84267548e-01  2.22375398e-01  1.40987236e-01  1.23612476e+00\n",
            "   6.91651431e-01 -2.15203850e-01]\n",
            " [ 1.63992383e-01  9.12337581e-01 -3.40271765e+00 -1.71928840e+00\n",
            "  -9.42225960e-02 -4.63572881e-01]\n",
            " [ 1.68801028e-01  3.40177042e-01 -9.19876185e-01  7.45967474e-01\n",
            "  -8.94623323e-01  2.03924972e-01]\n",
            " [ 7.90220553e-01  1.35025286e+00  1.24645550e+00  8.31228621e-01\n",
            "  -1.28800708e+00 -6.07640410e-01]\n",
            " [ 1.33022933e+00 -9.17018565e-01  3.96227586e-01  6.30013371e-01\n",
            "  -1.13122833e+00 -9.72589382e-01]\n",
            " [-1.89767581e-01  2.58732448e+00  2.26453300e-01  1.27278635e+00\n",
            "  -1.09916488e+00  1.49105618e+00]\n",
            " [-3.77245856e-01 -7.77673027e-01 -3.76961111e-01  9.03605414e-01\n",
            "  -4.86574479e-01  7.12029647e-01]\n",
            " [-2.95153240e-01  2.74943301e-01 -1.02012759e+00  2.30173675e+00\n",
            "  -1.27788854e+00  4.91298419e-01]\n",
            " [-7.75773936e-01 -7.50642869e-01  9.26910797e-01  5.11653279e-01\n",
            "  -7.15262915e-01 -2.16108313e+00]\n",
            " [ 1.19677276e+00  7.40390516e-01  1.94738632e+00 -5.51467254e-01\n",
            "   5.36327865e-01 -1.44142667e+00]\n",
            " [-1.35133652e+00  1.07850748e+00 -7.45701359e-01 -9.12611412e-01\n",
            "  -4.72779512e-01 -8.06262019e-01]\n",
            " [-1.67837106e+00  6.17558290e-02 -3.40891840e-01  8.53428399e-01\n",
            "   6.22498864e-01 -2.98408658e-01]\n",
            " [ 2.66048727e-02  4.61286772e-02  5.82692431e-01 -1.50043779e+00\n",
            "   1.11204876e+00  1.17721042e+00]\n",
            " [ 1.15464964e+00 -1.20513122e+00  9.14124470e-01 -5.17109979e-02\n",
            "   2.80487601e-01 -5.80531597e-01]\n",
            " [-6.45465284e-01  2.35544025e-02 -1.03570526e-01  7.04390614e-02\n",
            "   1.12413077e+00  1.07645576e+00]\n",
            " [-1.85266196e+00  9.24750385e-01 -1.19960993e+00  9.48131331e-01\n",
            "   9.72331535e-03  2.34462266e+00]\n",
            " [-1.03298200e+00  2.26678309e+00  1.84613193e+00 -8.87513416e-01\n",
            "  -3.16504784e-01  3.00917621e-01]\n",
            " [ 2.23641607e-01 -8.27247887e-01 -1.29036035e+00  1.09476544e+00\n",
            "  -2.10319286e+00  7.83034420e-01]\n",
            " [ 4.29060675e-01 -6.12689263e-01  5.20370425e-01 -4.66843785e-01\n",
            "  -2.26490155e-01  1.16797306e+00]\n",
            " [ 1.57239865e+00  2.50304903e-01  3.71588425e-01  1.26015020e+00\n",
            "  -1.34486608e+00  1.85193028e+00]\n",
            " [ 6.03075120e-01  1.66369455e+00  8.96113806e-01  1.81951880e+00\n",
            "  -7.71143093e-02 -1.90006719e+00]\n",
            " [ 4.04582637e-01 -1.58050022e+00 -6.83266512e-01 -1.64176577e-01\n",
            "   1.25093115e-01  9.89214128e-01]\n",
            " [-9.12804180e-01 -1.13832139e+00  7.87797559e-01 -5.88489796e-01\n",
            "   2.07210831e-01 -4.70702497e-01]\n",
            " [ 7.05953357e-01  8.58589191e-03 -1.18009240e+00  9.25225012e-01\n",
            "   2.00121684e-01 -1.12748234e+00]\n",
            " [ 1.60722325e-01 -1.47911635e+00 -3.68760733e-01  1.84236993e+00\n",
            "  -1.45082667e-01 -3.11362664e-01]\n",
            " [ 7.31466946e-02  5.89751237e-01  1.65603786e+00 -4.25661944e-01\n",
            "   6.00478109e-01  2.19032393e-01]\n",
            " [-1.63672880e+00  3.02293531e-01  6.45690239e-01  2.35204562e-01\n",
            "   1.28517145e+00  4.78484237e-01]\n",
            " [-3.06055480e-01 -3.99114319e-01  3.71898148e-02  3.78984317e-01\n",
            "   1.90389439e+00 -1.78503562e-01]\n",
            " [ 2.02080430e-01  3.56122530e-01 -9.52274289e-01 -1.05782822e+00\n",
            "   9.36562702e-01 -3.30106662e-01]\n",
            " [-1.29681885e+00 -6.20489871e-01 -7.41132203e-01 -2.26975156e+00\n",
            "  -3.73525688e-02 -5.38177921e-01]\n",
            " [-3.32329424e+00 -8.54556219e-02 -1.16139058e+00  1.69284253e+00\n",
            "   1.92217548e+00  1.81169233e+00]\n",
            " [ 5.11070407e-01 -7.23743173e-01 -7.24643545e-01  5.15438040e-01\n",
            "   1.15890371e+00 -1.96266308e-01]\n",
            " [-8.67996001e-01  6.12101640e-02  1.46917645e-01  3.07100905e-01\n",
            "   3.53858333e-01 -1.74146830e-01]\n",
            " [ 5.07191868e-01  1.60196426e+00  5.08942433e-01 -5.85200816e-01\n",
            "   7.69835221e-01 -3.96756146e-01]\n",
            " [ 1.15142936e+00 -1.24733288e+00 -1.58640546e+00  1.77917710e-01\n",
            "  -3.18453588e-01 -7.79809196e-01]\n",
            " [ 1.80370339e-01  1.34811310e-01 -7.43744894e-01 -8.82211053e-01\n",
            "   9.73178297e-01  4.39415546e-01]\n",
            " [-4.80284812e-01  1.67493321e-01  1.33664563e-01  7.05308513e-02\n",
            "   1.81863679e+00 -1.24731295e+00]\n",
            " [-1.85870113e-01  4.75286050e-01 -1.08352541e+00 -2.60625371e+00\n",
            "   3.62385991e-01 -1.27505138e+00]\n",
            " [ 1.35148524e-03 -3.87774604e-01 -8.50318989e-01  4.07581983e-01\n",
            "  -3.59787718e-02 -8.21787450e-01]\n",
            " [-1.02701319e+00  3.04197045e-01  1.52215357e+00  1.56730676e+00\n",
            "  -3.45918436e-01  4.76474632e-01]\n",
            " [ 4.83465326e-01  6.72401563e-01 -2.17710126e-01 -3.42314101e-02\n",
            "   7.41345196e-01 -9.12438774e-01]\n",
            " [-8.94906288e-02 -1.56521420e+00 -1.31684746e+00  1.50375571e-01\n",
            "   3.53899086e-01 -1.07257779e+00]\n",
            " [-8.45076650e-01  8.30318283e-01 -1.33366270e+00  1.66902362e+00\n",
            "  -1.06156334e+00 -1.75483604e+00]\n",
            " [-2.09029110e-01  9.70507627e-01 -3.12979567e-01 -1.77142497e-01\n",
            "  -2.50652739e-02  4.12271349e-01]\n",
            " [-7.32451261e-01 -6.43128790e-01 -2.48314656e+00 -2.31440936e+00\n",
            "   1.31331942e+00  3.31609547e-01]\n",
            " [ 7.98857596e-01  2.18238441e+00 -1.38688518e+00 -4.68464916e-01\n",
            "   8.01552277e-01  2.24738563e-01]\n",
            " [ 1.97786068e+00 -1.56969514e+00  2.19025034e-01  1.10135619e+00\n",
            "  -9.93338450e-01  9.04910069e-01]\n",
            " [ 1.01007232e+00 -8.52580248e-01 -8.21243143e-01  2.50474094e-01\n",
            "   7.24547016e-01  9.07012893e-01]\n",
            " [-1.56780689e-01  4.09346696e-01  1.67317739e+00 -1.37005579e+00\n",
            "   5.96407649e-02 -9.25052873e-01]\n",
            " [ 1.41984150e+00  1.16800267e+00  2.87398626e-01 -1.10717273e-01\n",
            "   4.14901639e-01 -3.71027763e-01]\n",
            " [-1.13204039e+00  4.91132708e-02 -5.14743842e-01 -5.82166622e-01\n",
            "  -7.43579172e-02 -9.73475208e-02]\n",
            " [-2.12916181e+00 -7.30546983e-01  1.96698333e+00  3.98556128e-02\n",
            "  -1.73590089e+00  4.22380784e-01]\n",
            " [-1.01027785e-01  5.29160945e-01 -1.54732715e+00  9.99303987e-01\n",
            "   3.07532424e-01  1.04017308e+00]\n",
            " [-5.74456926e-01 -1.51827881e+00 -8.35345088e-01 -6.29849323e-01\n",
            "  -6.20115636e-01  9.72807053e-01]\n",
            " [ 8.04949590e-01 -4.99079030e-01  3.74443645e-01 -2.43112205e-01\n",
            "   9.46047567e-01  1.37053116e+00]\n",
            " [-6.88063518e-01 -7.70111894e-01  9.12118884e-02  1.55917655e+00\n",
            "  -2.06740178e+00  9.53890081e-01]\n",
            " [-1.35091336e-01 -8.38459523e-01 -5.74505495e-01 -7.28749196e-01\n",
            "  -1.53386322e+00  6.92808303e-01]\n",
            " [-1.81586432e-01 -1.73141376e+00 -2.02521885e+00 -4.45566310e-01\n",
            "   8.58967813e-01  3.66835222e-01]\n",
            " [ 4.59032358e-01 -2.59280045e-01 -1.15229782e+00 -1.58620754e+00\n",
            "  -1.18273176e+00 -7.55653109e-01]\n",
            " [-2.37589345e-01 -5.18429109e-01  1.39010246e+00 -1.83230070e-01\n",
            "  -5.37032474e-01 -8.67656087e-01]\n",
            " [ 3.32472703e-01 -1.86504444e+00 -1.33696940e+00  1.14282659e+00\n",
            "   8.48871956e-01 -1.13987711e+00]\n",
            " [ 3.08854586e-01  3.84793414e-01  1.32921969e+00  5.11111100e-01\n",
            "  -2.76661388e-01  1.39420228e+00]\n",
            " [-4.09557519e-01  1.35100592e-01  8.79540554e-02  7.80640400e-01\n",
            "  -1.51751342e+00  1.19917908e+00]\n",
            " [ 4.16785115e-01  5.71253687e-02  8.56983720e-01  2.07572603e+00\n",
            "  -3.25829181e-01  1.19422500e+00]\n",
            " [-2.04915330e+00 -7.61806478e-02 -2.03425936e+00  2.42507138e+00\n",
            "   1.29244419e-01 -2.48615731e-02]\n",
            " [ 1.12007676e+00  4.16397603e-01  8.28570648e-01 -2.03237187e+00\n",
            "   2.11143294e+00  4.68091052e-03]\n",
            " [ 5.19470274e-01  1.67714487e+00 -8.53120010e-02  2.30570404e-01\n",
            "   1.12232404e+00  3.14609590e-01]\n",
            " [ 1.36206696e+00 -1.52863011e+00 -3.18137721e-01  7.31944046e-02\n",
            "   1.49512080e+00  1.17596867e+00]\n",
            " [-1.16194206e+00 -5.77877689e-01  4.73594058e-01  3.41162875e-01\n",
            "  -5.52580295e-01  1.55959457e+00]\n",
            " [ 2.54256174e+00  7.38908658e-01 -6.81588768e-01  2.85368301e-01\n",
            "   3.76118216e-01  7.02242393e-01]\n",
            " [ 6.97886785e-01  6.39913875e-01  1.77132081e-01  1.76665996e+00\n",
            "   4.79909073e-03 -2.01672448e+00]\n",
            " [-1.32811599e+00 -1.26457252e+00 -6.76444538e-01  1.33070395e+00\n",
            "  -8.72428407e-01 -1.84328052e+00]]\n"
          ]
        }
      ],
      "source": [
        "# Gerar dataset de regressão\n",
        "X, y = make_regression(n_samples=100, n_features=6, n_informative=10)\n",
        "print(X)"
      ]
    },
    {
      "cell_type": "code",
      "execution_count": null,
      "metadata": {
        "id": "_VrznY68EUea",
        "outputId": "6c3f93af-80be-40aa-9d6e-4e1c7eae8569"
      },
      "outputs": [
        {
          "data": {
            "text/html": [
              "<div>\n",
              "<style scoped>\n",
              "    .dataframe tbody tr th:only-of-type {\n",
              "        vertical-align: middle;\n",
              "    }\n",
              "\n",
              "    .dataframe tbody tr th {\n",
              "        vertical-align: top;\n",
              "    }\n",
              "\n",
              "    .dataframe thead th {\n",
              "        text-align: right;\n",
              "    }\n",
              "</style>\n",
              "<table border=\"1\" class=\"dataframe\">\n",
              "  <thead>\n",
              "    <tr style=\"text-align: right;\">\n",
              "      <th></th>\n",
              "      <th>var1</th>\n",
              "      <th>var2</th>\n",
              "      <th>var3</th>\n",
              "      <th>var4</th>\n",
              "      <th>var5</th>\n",
              "      <th>var_cat</th>\n",
              "      <th>target</th>\n",
              "    </tr>\n",
              "  </thead>\n",
              "  <tbody>\n",
              "    <tr>\n",
              "      <th>95</th>\n",
              "      <td>1.362067</td>\n",
              "      <td>-1.528630</td>\n",
              "      <td>-0.318138</td>\n",
              "      <td>0.073194</td>\n",
              "      <td>1.495121</td>\n",
              "      <td>1.175969</td>\n",
              "      <td>190.900984</td>\n",
              "    </tr>\n",
              "    <tr>\n",
              "      <th>96</th>\n",
              "      <td>-1.161942</td>\n",
              "      <td>-0.577878</td>\n",
              "      <td>0.473594</td>\n",
              "      <td>0.341163</td>\n",
              "      <td>-0.552580</td>\n",
              "      <td>1.559595</td>\n",
              "      <td>-55.206098</td>\n",
              "    </tr>\n",
              "    <tr>\n",
              "      <th>97</th>\n",
              "      <td>2.542562</td>\n",
              "      <td>0.738909</td>\n",
              "      <td>-0.681589</td>\n",
              "      <td>0.285368</td>\n",
              "      <td>0.376118</td>\n",
              "      <td>0.702242</td>\n",
              "      <td>168.179597</td>\n",
              "    </tr>\n",
              "    <tr>\n",
              "      <th>98</th>\n",
              "      <td>0.697887</td>\n",
              "      <td>0.639914</td>\n",
              "      <td>0.177132</td>\n",
              "      <td>1.766660</td>\n",
              "      <td>0.004799</td>\n",
              "      <td>-2.016724</td>\n",
              "      <td>84.855397</td>\n",
              "    </tr>\n",
              "    <tr>\n",
              "      <th>99</th>\n",
              "      <td>-1.328116</td>\n",
              "      <td>-1.264573</td>\n",
              "      <td>-0.676445</td>\n",
              "      <td>1.330704</td>\n",
              "      <td>-0.872428</td>\n",
              "      <td>-1.843281</td>\n",
              "      <td>-199.808556</td>\n",
              "    </tr>\n",
              "  </tbody>\n",
              "</table>\n",
              "</div>"
            ],
            "text/plain": [
              "        var1      var2      var3      var4      var5   var_cat      target\n",
              "95  1.362067 -1.528630 -0.318138  0.073194  1.495121  1.175969  190.900984\n",
              "96 -1.161942 -0.577878  0.473594  0.341163 -0.552580  1.559595  -55.206098\n",
              "97  2.542562  0.738909 -0.681589  0.285368  0.376118  0.702242  168.179597\n",
              "98  0.697887  0.639914  0.177132  1.766660  0.004799 -2.016724   84.855397\n",
              "99 -1.328116 -1.264573 -0.676445  1.330704 -0.872428 -1.843281 -199.808556"
            ]
          },
          "execution_count": 13,
          "metadata": {},
          "output_type": "execute_result"
        }
      ],
      "source": [
        "# Colocar dados em um Dataframe Pandas para melhor manipulação\n",
        "df2 = pd.DataFrame(X)\n",
        "df2['target'] = y\n",
        "df2.columns = ['var1', 'var2', 'var3', 'var4','var5', 'var_cat', 'target']\n",
        "df2.tail()"
      ]
    },
    {
      "cell_type": "code",
      "execution_count": null,
      "metadata": {
        "id": "yoYg5TUpEUea",
        "outputId": "be74b268-f61a-43f7-8901-c6bfec1c75ad"
      },
      "outputs": [
        {
          "data": {
            "text/html": [
              "<div>\n",
              "<style scoped>\n",
              "    .dataframe tbody tr th:only-of-type {\n",
              "        vertical-align: middle;\n",
              "    }\n",
              "\n",
              "    .dataframe tbody tr th {\n",
              "        vertical-align: top;\n",
              "    }\n",
              "\n",
              "    .dataframe thead th {\n",
              "        text-align: right;\n",
              "    }\n",
              "</style>\n",
              "<table border=\"1\" class=\"dataframe\">\n",
              "  <thead>\n",
              "    <tr style=\"text-align: right;\">\n",
              "      <th></th>\n",
              "      <th>var1</th>\n",
              "      <th>var2</th>\n",
              "      <th>var3</th>\n",
              "      <th>var4</th>\n",
              "      <th>var5</th>\n",
              "      <th>var_cat</th>\n",
              "      <th>target</th>\n",
              "    </tr>\n",
              "  </thead>\n",
              "  <tbody>\n",
              "    <tr>\n",
              "      <th>0</th>\n",
              "      <td>-1.522094</td>\n",
              "      <td>-2.013212</td>\n",
              "      <td>1.019413</td>\n",
              "      <td>-1.704726</td>\n",
              "      <td>-0.131644</td>\n",
              "      <td>2</td>\n",
              "      <td>-140.202504</td>\n",
              "    </tr>\n",
              "    <tr>\n",
              "      <th>1</th>\n",
              "      <td>0.142216</td>\n",
              "      <td>0.887227</td>\n",
              "      <td>-1.538412</td>\n",
              "      <td>0.130084</td>\n",
              "      <td>-0.665434</td>\n",
              "      <td>2</td>\n",
              "      <td>-119.051738</td>\n",
              "    </tr>\n",
              "    <tr>\n",
              "      <th>2</th>\n",
              "      <td>-1.796306</td>\n",
              "      <td>-0.166427</td>\n",
              "      <td>0.826118</td>\n",
              "      <td>0.094218</td>\n",
              "      <td>1.250172</td>\n",
              "      <td>3</td>\n",
              "      <td>52.844226</td>\n",
              "    </tr>\n",
              "  </tbody>\n",
              "</table>\n",
              "</div>"
            ],
            "text/plain": [
              "       var1      var2      var3      var4      var5  var_cat      target\n",
              "0 -1.522094 -2.013212  1.019413 -1.704726 -0.131644        2 -140.202504\n",
              "1  0.142216  0.887227 -1.538412  0.130084 -0.665434        2 -119.051738\n",
              "2 -1.796306 -0.166427  0.826118  0.094218  1.250172        3   52.844226"
            ]
          },
          "execution_count": 15,
          "metadata": {},
          "output_type": "execute_result"
        }
      ],
      "source": [
        "# Criando variável Categórica baseada na variável target - propositalmente, para termos forte correlação\n",
        "df2['var_cat'] = pd.cut(df2.target,4, labels=[1,2,3,4])\n",
        "df2['var_cat'] = df2.var_cat.astype(int)\n",
        "df2.head(3)"
      ]
    },
    {
      "cell_type": "code",
      "execution_count": null,
      "metadata": {
        "id": "G7MEs6ncEUea",
        "outputId": "5d5e77f4-b343-488f-9ee9-8cd6af891e85"
      },
      "outputs": [
        {
          "data": {
            "image/png": "[encoded data removed]",
            "text/plain": [
              "<Figure size 1440x576 with 4 Axes>"
            ]
          },
          "metadata": {},
          "output_type": "display_data"
        }
      ],
      "source": [
        "# Correlação Pearson e Spearman\n",
        "fig, ax = plt.subplots(1,2,figsize=(20,8))\n",
        "g = sns.heatmap(df2.corr(method='pearson'), cmap='coolwarm', annot=True, ax=ax[0])\n",
        "g.set_title('Correlação Pearson')\n",
        "g2 = sns.heatmap(df2.corr(method='spearman'), cmap='coolwarm', annot=True, ax=ax[1])\n",
        "g2.set_title('Correlação Spearman');"
      ]
    },
    {
      "cell_type": "code",
      "execution_count": null,
      "metadata": {
        "id": "hKAxVlOcEUeb",
        "outputId": "c017c135-3e36-495b-bb52-37510a6a2dae"
      },
      "outputs": [
        {
          "data": {
            "text/html": [
              "<div>\n",
              "<style scoped>\n",
              "    .dataframe tbody tr th:only-of-type {\n",
              "        vertical-align: middle;\n",
              "    }\n",
              "\n",
              "    .dataframe tbody tr th {\n",
              "        vertical-align: top;\n",
              "    }\n",
              "\n",
              "    .dataframe thead th {\n",
              "        text-align: right;\n",
              "    }\n",
              "</style>\n",
              "<table border=\"1\" class=\"dataframe\">\n",
              "  <thead>\n",
              "    <tr style=\"text-align: right;\">\n",
              "      <th></th>\n",
              "      <th>species</th>\n",
              "      <th>island</th>\n",
              "      <th>bill_length_mm</th>\n",
              "      <th>bill_depth_mm</th>\n",
              "      <th>flipper_length_mm</th>\n",
              "      <th>body_mass_g</th>\n",
              "      <th>sex</th>\n",
              "    </tr>\n",
              "  </thead>\n",
              "  <tbody>\n",
              "    <tr>\n",
              "      <th>0</th>\n",
              "      <td>Adelie</td>\n",
              "      <td>Torgersen</td>\n",
              "      <td>39.1</td>\n",
              "      <td>18.7</td>\n",
              "      <td>181.0</td>\n",
              "      <td>3750.0</td>\n",
              "      <td>Male</td>\n",
              "    </tr>\n",
              "    <tr>\n",
              "      <th>1</th>\n",
              "      <td>Adelie</td>\n",
              "      <td>Torgersen</td>\n",
              "      <td>39.5</td>\n",
              "      <td>17.4</td>\n",
              "      <td>186.0</td>\n",
              "      <td>3800.0</td>\n",
              "      <td>Female</td>\n",
              "    </tr>\n",
              "    <tr>\n",
              "      <th>2</th>\n",
              "      <td>Adelie</td>\n",
              "      <td>Torgersen</td>\n",
              "      <td>40.3</td>\n",
              "      <td>18.0</td>\n",
              "      <td>195.0</td>\n",
              "      <td>3250.0</td>\n",
              "      <td>Female</td>\n",
              "    </tr>\n",
              "  </tbody>\n",
              "</table>\n",
              "</div>"
            ],
            "text/plain": [
              "  species     island  bill_length_mm  bill_depth_mm  flipper_length_mm  \\\n",
              "0  Adelie  Torgersen            39.1           18.7              181.0   \n",
              "1  Adelie  Torgersen            39.5           17.4              186.0   \n",
              "2  Adelie  Torgersen            40.3           18.0              195.0   \n",
              "\n",
              "   body_mass_g     sex  \n",
              "0       3750.0    Male  \n",
              "1       3800.0  Female  \n",
              "2       3250.0  Female  "
            ]
          },
          "execution_count": 18,
          "metadata": {},
          "output_type": "execute_result"
        }
      ],
      "source": [
        "# Load do Dataset\n",
        "df = sns.load_dataset(name='penguins')\n",
        "df.head(3)"
      ]
    },
    {
      "cell_type": "code",
      "execution_count": null,
      "metadata": {
        "id": "NeuCqIG8EUeb",
        "outputId": "f277a7be-40d2-4993-9074-9e76628c5dfe"
      },
      "outputs": [
        {
          "data": {
            "text/plain": [
              "(344, 7)"
            ]
          },
          "execution_count": 19,
          "metadata": {},
          "output_type": "execute_result"
        }
      ],
      "source": [
        "# Verificando dimensões\n",
        "df.shape"
      ]
    },
    {
      "cell_type": "code",
      "execution_count": null,
      "metadata": {
        "id": "z_141ds_EUec",
        "outputId": "a7d5fc85-bde1-41a7-c37f-2259a66225ff"
      },
      "outputs": [
        {
          "data": {
            "image/png": "[encoded data removed]",
            "text/plain": [
              "<Figure size 432x288 with 1 Axes>"
            ]
          },
          "metadata": {},
          "output_type": "display_data"
        },
        {
          "name": "stdout",
          "output_type": "stream",
          "text": [
            "<class 'pandas.core.frame.DataFrame'>\n",
            "RangeIndex: 344 entries, 0 to 343\n",
            "Data columns (total 7 columns):\n",
            " #   Column             Non-Null Count  Dtype  \n",
            "---  ------             --------------  -----  \n",
            " 0   species            344 non-null    object \n",
            " 1   island             344 non-null    object \n",
            " 2   bill_length_mm     342 non-null    float64\n",
            " 3   bill_depth_mm      342 non-null    float64\n",
            " 4   flipper_length_mm  342 non-null    float64\n",
            " 5   body_mass_g        342 non-null    float64\n",
            " 6   sex                333 non-null    object \n",
            "dtypes: float64(4), object(3)\n",
            "memory usage: 18.9+ KB\n",
            "None\n"
          ]
        }
      ],
      "source": [
        "#Verificar valores nulos\n",
        "sns.heatmap(df.isnull(), yticklabels=False, cbar=False)\n",
        "plt.title('Missing Values', size=18)\n",
        "plt.show()\n",
        "print(df.info())"
      ]
    },
    {
      "cell_type": "code",
      "execution_count": null,
      "metadata": {
        "id": "F4V2g3YeEUec"
      },
      "outputs": [],
      "source": [
        "df.dropna(inplace=True)\n",
        "# Cria cópia do dataset\n",
        "df1 = df.copy()"
      ]
    },
    {
      "cell_type": "code",
      "execution_count": null,
      "metadata": {
        "id": "BWwiSdVYEUec"
      },
      "outputs": [],
      "source": [
        "# Importando library\n",
        "import pingouin as pg"
      ]
    },
    {
      "cell_type": "code",
      "execution_count": null,
      "metadata": {
        "id": "c5zL0oHNEUec",
        "outputId": "48985dc0-07f8-49ce-914e-54778d0b07cf"
      },
      "outputs": [
        {
          "name": "stdout",
          "output_type": "stream",
          "text": [
            "A variável \"species\" possui 3 valores únicos: ['Adelie' 'Chinstrap' 'Gentoo']\n",
            "A variável \"island\" possui 3 valores únicos: ['Torgersen' 'Biscoe' 'Dream']\n",
            "A variável \"sex\" possui 2 valores únicos: ['Male' 'Female']\n"
          ]
        }
      ],
      "source": [
        "# Transformando variáveis categóricas\n",
        "cat = [var for var in df.columns if df[var].dtype=='object']\n",
        "for col in cat:\n",
        "  print(f'A variável \"{col}\" possui {df[col].nunique()} valores únicos: {df[col].unique()}')"
      ]
    },
    {
      "cell_type": "code",
      "execution_count": null,
      "metadata": {
        "id": "WsCv8i1sEUec"
      },
      "outputs": [],
      "source": [
        "df1['species'] = df1.species.map({'Adelie':1, 'Chinstrap':2, 'Gentoo':3})\n",
        "df1['island'] = df1.island.map({'Torgersen':1, 'Biscoe':2, 'Dream':3})\n",
        "df1['sex'] = df1.sex.map({'Male':0, 'Female':1})"
      ]
    },
    {
      "cell_type": "code",
      "execution_count": null,
      "metadata": {
        "id": "z6qifx-cEUed"
      },
      "outputs": [],
      "source": [
        "# Calculando a estatística com ANOVA\n",
        "aov = []\n",
        "for variance in df1.columns[:6]:\n",
        "  v = pg.anova(data=df1, dv='sex', between=variance, detailed=True).round(3)\n",
        "  aov.append(v)"
      ]
    },
    {
      "cell_type": "code",
      "execution_count": null,
      "metadata": {
        "id": "UAvIq23TEUed",
        "outputId": "26f96eee-4d9c-465b-9be5-42a796a3dfdd"
      },
      "outputs": [
        {
          "data": {
            "text/html": [
              "<div>\n",
              "<style scoped>\n",
              "    .dataframe tbody tr th:only-of-type {\n",
              "        vertical-align: middle;\n",
              "    }\n",
              "\n",
              "    .dataframe tbody tr th {\n",
              "        vertical-align: top;\n",
              "    }\n",
              "\n",
              "    .dataframe thead th {\n",
              "        text-align: right;\n",
              "    }\n",
              "</style>\n",
              "<table border=\"1\" class=\"dataframe\">\n",
              "  <thead>\n",
              "    <tr style=\"text-align: right;\">\n",
              "      <th></th>\n",
              "      <th>Source</th>\n",
              "      <th>SS</th>\n",
              "      <th>DF</th>\n",
              "      <th>MS</th>\n",
              "      <th>F</th>\n",
              "      <th>p-unc</th>\n",
              "      <th>np2</th>\n",
              "    </tr>\n",
              "  </thead>\n",
              "  <tbody>\n",
              "    <tr>\n",
              "      <th>0</th>\n",
              "      <td>species</td>\n",
              "      <td>0.012</td>\n",
              "      <td>2</td>\n",
              "      <td>0.006</td>\n",
              "      <td>0.024</td>\n",
              "      <td>0.976</td>\n",
              "      <td>0.000</td>\n",
              "    </tr>\n",
              "    <tr>\n",
              "      <th>1</th>\n",
              "      <td>Within</td>\n",
              "      <td>83.231</td>\n",
              "      <td>330</td>\n",
              "      <td>0.252</td>\n",
              "      <td>NaN</td>\n",
              "      <td>NaN</td>\n",
              "      <td>NaN</td>\n",
              "    </tr>\n",
              "    <tr>\n",
              "      <th>0</th>\n",
              "      <td>island</td>\n",
              "      <td>0.014</td>\n",
              "      <td>2</td>\n",
              "      <td>0.007</td>\n",
              "      <td>0.029</td>\n",
              "      <td>0.972</td>\n",
              "      <td>0.000</td>\n",
              "    </tr>\n",
              "    <tr>\n",
              "      <th>1</th>\n",
              "      <td>Within</td>\n",
              "      <td>83.229</td>\n",
              "      <td>330</td>\n",
              "      <td>0.252</td>\n",
              "      <td>NaN</td>\n",
              "      <td>NaN</td>\n",
              "      <td>NaN</td>\n",
              "    </tr>\n",
              "    <tr>\n",
              "      <th>0</th>\n",
              "      <td>bill_length_mm</td>\n",
              "      <td>53.519</td>\n",
              "      <td>162</td>\n",
              "      <td>0.330</td>\n",
              "      <td>1.889</td>\n",
              "      <td>0.000</td>\n",
              "      <td>0.643</td>\n",
              "    </tr>\n",
              "    <tr>\n",
              "      <th>1</th>\n",
              "      <td>Within</td>\n",
              "      <td>29.724</td>\n",
              "      <td>170</td>\n",
              "      <td>0.175</td>\n",
              "      <td>NaN</td>\n",
              "      <td>NaN</td>\n",
              "      <td>NaN</td>\n",
              "    </tr>\n",
              "    <tr>\n",
              "      <th>0</th>\n",
              "      <td>bill_depth_mm</td>\n",
              "      <td>42.777</td>\n",
              "      <td>78</td>\n",
              "      <td>0.548</td>\n",
              "      <td>3.442</td>\n",
              "      <td>0.000</td>\n",
              "      <td>0.514</td>\n",
              "    </tr>\n",
              "    <tr>\n",
              "      <th>1</th>\n",
              "      <td>Within</td>\n",
              "      <td>40.466</td>\n",
              "      <td>254</td>\n",
              "      <td>0.159</td>\n",
              "      <td>NaN</td>\n",
              "      <td>NaN</td>\n",
              "      <td>NaN</td>\n",
              "    </tr>\n",
              "    <tr>\n",
              "      <th>0</th>\n",
              "      <td>flipper_length_mm</td>\n",
              "      <td>26.592</td>\n",
              "      <td>53</td>\n",
              "      <td>0.502</td>\n",
              "      <td>2.471</td>\n",
              "      <td>0.000</td>\n",
              "      <td>0.319</td>\n",
              "    </tr>\n",
              "    <tr>\n",
              "      <th>1</th>\n",
              "      <td>Within</td>\n",
              "      <td>56.651</td>\n",
              "      <td>279</td>\n",
              "      <td>0.203</td>\n",
              "      <td>NaN</td>\n",
              "      <td>NaN</td>\n",
              "      <td>NaN</td>\n",
              "    </tr>\n",
              "    <tr>\n",
              "      <th>0</th>\n",
              "      <td>body_mass_g</td>\n",
              "      <td>43.097</td>\n",
              "      <td>92</td>\n",
              "      <td>0.468</td>\n",
              "      <td>2.800</td>\n",
              "      <td>0.000</td>\n",
              "      <td>0.518</td>\n",
              "    </tr>\n",
              "    <tr>\n",
              "      <th>1</th>\n",
              "      <td>Within</td>\n",
              "      <td>40.146</td>\n",
              "      <td>240</td>\n",
              "      <td>0.167</td>\n",
              "      <td>NaN</td>\n",
              "      <td>NaN</td>\n",
              "      <td>NaN</td>\n",
              "    </tr>\n",
              "  </tbody>\n",
              "</table>\n",
              "</div>"
            ],
            "text/plain": [
              "              Source      SS   DF     MS      F  p-unc    np2\n",
              "0            species   0.012    2  0.006  0.024  0.976  0.000\n",
              "1             Within  83.231  330  0.252    NaN    NaN    NaN\n",
              "0             island   0.014    2  0.007  0.029  0.972  0.000\n",
              "1             Within  83.229  330  0.252    NaN    NaN    NaN\n",
              "0     bill_length_mm  53.519  162  0.330  1.889  0.000  0.643\n",
              "1             Within  29.724  170  0.175    NaN    NaN    NaN\n",
              "0      bill_depth_mm  42.777   78  0.548  3.442  0.000  0.514\n",
              "1             Within  40.466  254  0.159    NaN    NaN    NaN\n",
              "0  flipper_length_mm  26.592   53  0.502  2.471  0.000  0.319\n",
              "1             Within  56.651  279  0.203    NaN    NaN    NaN\n",
              "0        body_mass_g  43.097   92  0.468  2.800  0.000  0.518\n",
              "1             Within  40.146  240  0.167    NaN    NaN    NaN"
            ]
          },
          "execution_count": 30,
          "metadata": {},
          "output_type": "execute_result"
        }
      ],
      "source": [
        "pd.concat(aov)"
      ]
    },
    {
      "cell_type": "code",
      "execution_count": null,
      "metadata": {
        "id": "INGwjgxSEUed",
        "outputId": "d9839da7-9dd4-4868-adc8-dbc165d4a8e8"
      },
      "outputs": [
        {
          "data": {
            "text/html": [
              "<div>\n",
              "<style scoped>\n",
              "    .dataframe tbody tr th:only-of-type {\n",
              "        vertical-align: middle;\n",
              "    }\n",
              "\n",
              "    .dataframe tbody tr th {\n",
              "        vertical-align: top;\n",
              "    }\n",
              "\n",
              "    .dataframe thead th {\n",
              "        text-align: right;\n",
              "    }\n",
              "</style>\n",
              "<table border=\"1\" class=\"dataframe\">\n",
              "  <thead>\n",
              "    <tr style=\"text-align: right;\">\n",
              "      <th></th>\n",
              "      <th>Source</th>\n",
              "      <th>F</th>\n",
              "    </tr>\n",
              "  </thead>\n",
              "  <tbody>\n",
              "    <tr>\n",
              "      <th>0</th>\n",
              "      <td>species</td>\n",
              "      <td>0.024</td>\n",
              "    </tr>\n",
              "    <tr>\n",
              "      <th>0</th>\n",
              "      <td>island</td>\n",
              "      <td>0.029</td>\n",
              "    </tr>\n",
              "    <tr>\n",
              "      <th>0</th>\n",
              "      <td>bill_length_mm</td>\n",
              "      <td>1.889</td>\n",
              "    </tr>\n",
              "    <tr>\n",
              "      <th>0</th>\n",
              "      <td>bill_depth_mm</td>\n",
              "      <td>3.442</td>\n",
              "    </tr>\n",
              "    <tr>\n",
              "      <th>0</th>\n",
              "      <td>flipper_length_mm</td>\n",
              "      <td>2.471</td>\n",
              "    </tr>\n",
              "    <tr>\n",
              "      <th>0</th>\n",
              "      <td>body_mass_g</td>\n",
              "      <td>2.800</td>\n",
              "    </tr>\n",
              "  </tbody>\n",
              "</table>\n",
              "</div>"
            ],
            "text/plain": [
              "              Source      F\n",
              "0            species  0.024\n",
              "0             island  0.029\n",
              "0     bill_length_mm  1.889\n",
              "0      bill_depth_mm  3.442\n",
              "0  flipper_length_mm  2.471\n",
              "0        body_mass_g  2.800"
            ]
          },
          "execution_count": 31,
          "metadata": {},
          "output_type": "execute_result"
        }
      ],
      "source": [
        "data = pd.concat(aov)\n",
        "data = data[data.Source!='Within'][['Source','F']]\n",
        "data"
      ]
    },
    {
      "cell_type": "code",
      "execution_count": null,
      "metadata": {
        "id": "wN7F-otGEUed",
        "outputId": "6b9d4e6b-090b-4bc1-d251-0b24cedf162d"
      },
      "outputs": [
        {
          "name": "stderr",
          "output_type": "stream",
          "text": [
            "C:\\Users\\binho\\anaconda3\\envs\\estatistica\\lib\\site-packages\\seaborn\\_decorators.py:36: FutureWarning: Pass the following variables as keyword args: x, y. From version 0.12, the only valid positional argument will be `data`, and passing other arguments without an explicit keyword will result in an error or misinterpretation.\n",
            "  warnings.warn(\n"
          ]
        },
        {
          "data": {
            "image/png": "[encoded data removed]",
            "text/plain": [
              "<Figure size 864x432 with 1 Axes>"
            ]
          },
          "metadata": {},
          "output_type": "display_data"
        }
      ],
      "source": [
        "plt.figure(figsize=(12,6))\n",
        "sns.barplot('Source', 'F', data=data)\n",
        "plt.show()"
      ]
    }
  ],
  "metadata": {
    "kernelspec": {
      "display_name": "Python 3.10.8 64-bit",
      "language": "python",
      "name": "python3"
    },
    "language_info": {
      "codemirror_mode": {
        "name": "ipython",
        "version": 3
      },
      "file_extension": ".py",
      "mimetype": "text/x-python",
      "name": "python",
      "nbconvert_exporter": "python",
      "pygments_lexer": "ipython3",
      "version": "3.10.8"
    },
    "orig_nbformat": 4,
    "vscode": {
      "interpreter": {
        "hash": "b0fa6594d8f4cbf19f97940f81e996739fb7646882a419484c72d19e05852a7e"
      }
    },
    "colab": {
      "provenance": []
    }
  },
  "nbformat": 4,
  "nbformat_minor": 0
}